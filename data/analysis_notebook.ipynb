{
 "cells": [
  {
   "cell_type": "raw",
   "id": "bdd54c5a",
   "metadata": {
    "vscode": {
     "languageId": "raw"
    }
   },
   "source": [
    "# Interosight Data Analysis - Firebase Setup\n",
    "\n",
    "This notebook establishes connection to Firebase and verifies access to your data.\n",
    "\n",
    "## Prerequisites\n",
    "1. Firebase Admin SDK service account key\n",
    "2. Required Python packages (`firebase-admin`, `pandas`)\n",
    "\n",
    "The service account key should be located at:\n",
    "`../app/firebase/interosight-firebase-adminsdk-fbsvc-6abf5cb0b5.json`\n"
   ]
  },
  {
   "cell_type": "code",
   "execution_count": 7,
   "id": "fd8534fd",
   "metadata": {},
   "outputs": [
    {
     "name": "stdout",
     "output_type": "stream",
     "text": [
      "[SUCCESS] Libraries imported successfully\n"
     ]
    }
   ],
   "source": [
    "# Import required libraries\n",
    "import os\n",
    "import json\n",
    "from pathlib import Path\n",
    "import firebase_admin\n",
    "from firebase_admin import credentials, firestore, auth\n",
    "import pandas as pd\n",
    "\n",
    "print(\"[SUCCESS] Libraries imported successfully\")\n"
   ]
  },
  {
   "cell_type": "code",
   "execution_count": 8,
   "id": "a7b8c794",
   "metadata": {},
   "outputs": [
    {
     "name": "stdout",
     "output_type": "stream",
     "text": [
      "[SUCCESS] Service account key found\n",
      "[SUCCESS] Firebase Admin SDK initialized successfully\n",
      "\n",
      "Available collections: ['users']\n"
     ]
    }
   ],
   "source": [
    "# Check for service account key and initialize Firebase\n",
    "service_account_path = '../app/firebase/interosight-firebase-adminsdk-fbsvc-6abf5cb0b5.json'\n",
    "\n",
    "if not os.path.exists(service_account_path):\n",
    "    print(\"[ERROR] Service account key not found!\")\n",
    "    print(f\"Expected location: {os.path.abspath(service_account_path)}\")\n",
    "else:\n",
    "    print(\"[SUCCESS] Service account key found\")\n",
    "    \n",
    "    # Initialize Firebase Admin SDK\n",
    "    try:\n",
    "        # Check if already initialized\n",
    "        if not firebase_admin._apps:\n",
    "            cred = credentials.Certificate(service_account_path)\n",
    "            firebase_admin.initialize_app(cred)\n",
    "        \n",
    "        # Get Firestore client\n",
    "        db = firestore.client()\n",
    "        print(\"[SUCCESS] Firebase Admin SDK initialized successfully\")\n",
    "        \n",
    "        # Test connection by listing collections\n",
    "        collections = [collection.id for collection in db.collections()]\n",
    "        print(f\"\\nAvailable collections: {collections}\")\n",
    "        \n",
    "    except Exception as e:\n",
    "        print(f\"[ERROR] Failed to initialize Firebase: {str(e)}\")\n"
   ]
  },
  {
   "cell_type": "code",
   "execution_count": 9,
   "id": "0deb012e",
   "metadata": {},
   "outputs": [
    {
     "name": "stdout",
     "output_type": "stream",
     "text": [
      "\n",
      "Firebase Auth User:\n",
      "  ID: OFR7YDrl8lbZrgF100Ib9qK4ekU2\n",
      "  Email: gptfranklin@gmail.com\n",
      "  Display Name: dev\n",
      "  Email Verified: False\n",
      "\n",
      "Firestore User Profile:\n",
      "  id: OFR7YDrl8lbZrgF100Ib9qK4ekU2\n",
      "  lastActive: 2025-08-01T23:20:39.909Z\n",
      "  email: gptfranklin@gmail.com\n",
      "  createdAt: 2025-08-01T23:20:39.909Z\n",
      "  displayName: dev\n",
      "  privacySettings: {'marketingEmails': False, 'dataProcessing': True, 'researchParticipation': False, 'thirdPartySharing': False}\n",
      "  preferences: {'ui': {'textSize': 'medium', 'theme': 'light'}, 'privacy': {'dataSharing': False, 'analytics': True}, 'notifications': {'email': True, 'encouragement': True, 'reflection': True}}\n"
     ]
    }
   ],
   "source": [
    "# Test user authentication\n",
    "def get_user_data(email):\n",
    "    \"\"\"Get user data from Firebase Auth and Firestore\"\"\"\n",
    "    try:\n",
    "        # Get user from Auth\n",
    "        user = auth.get_user_by_email(email)\n",
    "        print(\"\\nFirebase Auth User:\")\n",
    "        print(f\"  ID: {user.uid}\")\n",
    "        print(f\"  Email: {user.email}\")\n",
    "        print(f\"  Display Name: {user.display_name}\")\n",
    "        print(f\"  Email Verified: {user.email_verified}\")\n",
    "        \n",
    "        # Get user profile from Firestore\n",
    "        user_doc = db.collection('users').document(user.uid).get()\n",
    "        if user_doc.exists:\n",
    "            profile = user_doc.to_dict()\n",
    "            print(\"\\nFirestore User Profile:\")\n",
    "            for key, value in profile.items():\n",
    "                print(f\"  {key}: {value}\")\n",
    "        else:\n",
    "            print(\"\\n[WARNING] No Firestore profile found\")\n",
    "            \n",
    "        return user.uid\n",
    "        \n",
    "    except Exception as e:\n",
    "        print(f\"[ERROR] Error: {str(e)}\")\n",
    "        return None\n",
    "\n",
    "# Test with your email\n",
    "user_id = get_user_data('gptfranklin@gmail.com')\n"
   ]
  },
  {
   "cell_type": "code",
   "execution_count": 10,
   "id": "23a78893",
   "metadata": {},
   "outputs": [
    {
     "name": "stdout",
     "output_type": "stream",
     "text": [
      "\n",
      "Testing collection access...\n",
      "\n",
      "[SUCCESS] journal_entries:\n",
      "  Fields: ['isEdited', 'updatedAt', 'type', 'eventId', 'editHistory', 'wordCount', 'createdAt', 'content', 'moduleId', 'userId', 'submoduleId']\n",
      "\n",
      "[SUCCESS] module_progress:\n",
      "  Fields: ['submoduleProgress', 'unlockedAt', 'overallProgress', 'moduleId', 'userId', 'lastAccessed']\n",
      "[WARNING] No documents found in meal_logs\n",
      "[WARNING] No documents found in behavior_logs\n",
      "[WARNING] No documents found in insights\n",
      "\n",
      "[SUCCESS] events:\n",
      "  Fields: ['metadata', 'endTime', 'type', 'updatedAt', 'startTime', 'duration', 'createdAt', 'userId']\n"
     ]
    }
   ],
   "source": [
    "# If we got a valid user ID, test accessing some collections\n",
    "if user_id:\n",
    "    try:\n",
    "        print(\"\\nTesting collection access...\")\n",
    "        \n",
    "        # Test collections\n",
    "        collections = [\n",
    "            'journal_entries',\n",
    "            'module_progress',\n",
    "            'meal_logs',\n",
    "            'behavior_logs',\n",
    "            'insights',\n",
    "            'events'\n",
    "        ]\n",
    "        \n",
    "        for collection in collections:\n",
    "            docs = db.collection('users').document(user_id).collection(collection).limit(1).stream()\n",
    "            docs_list = list(docs)\n",
    "            \n",
    "            if docs_list:\n",
    "                sample_doc = docs_list[0].to_dict()\n",
    "                print(f\"\\n[SUCCESS] {collection}:\")\n",
    "                print(f\"  Fields: {list(sample_doc.keys())}\")\n",
    "            else:\n",
    "                print(f\"[WARNING] No documents found in {collection}\")\n",
    "                \n",
    "    except Exception as e:\n",
    "        print(f\"[ERROR] Error accessing collections: {str(e)}\")\n"
   ]
  },
  {
   "cell_type": "code",
   "execution_count": null,
   "id": "714889dd",
   "metadata": {},
   "outputs": [],
   "source": [
    "# Get Module 1 (Introduction) journal entries\n",
    "if user_id:\n",
    "    try:\n",
    "        # Query all journal entries for Module 1\n",
    "        module_entries = db.collection('users').document(user_id).collection('journal_entries')\\\n",
    "            .where('moduleId', '==', 'introduction')\\\n",
    "            .order_by('createdAt', 'asc')\\\n",
    "            .stream()\n",
    "        \n",
    "        # Convert to list of dictionaries\n",
    "        entries = []\n",
    "        for doc in module_entries:\n",
    "            entry_data = doc.to_dict()\n",
    "            # Convert timestamps to datetime for better display\n",
    "            entry_data['createdAt'] = entry_data['createdAt'].strftime('%Y-%m-%d %H:%M:%S')\n",
    "            entry_data['updatedAt'] = entry_data['updatedAt'].strftime('%Y-%m-%d %H:%M:%S')\n",
    "            entries.append(entry_data)\n",
    "        \n",
    "        # Create DataFrame for better visualization\n",
    "        df = pd.DataFrame(entries)\n",
    "        \n",
    "        if len(df) > 0:\n",
    "            print(f\"\\nFound {len(df)} entries in Module 1:\")\n",
    "            print(\"\\nEntry Summary:\")\n",
    "            print(\"-\" * 80)\n",
    "            for idx, row in df.iterrows():\n",
    "                print(f\"Entry {idx + 1}:\")\n",
    "                print(f\"Submodule: {row['submoduleId']}\")\n",
    "                print(f\"Created: {row['createdAt']}\")\n",
    "                print(f\"Word Count: {row['wordCount']}\")\n",
    "                print(f\"Content Preview: {row['content'][:100]}...\")\n",
    "                print(\"-\" * 80)\n",
    "            \n",
    "            # Show some basic statistics\n",
    "            print(\"\\nModule Statistics:\")\n",
    "            print(f\"Total Word Count: {df['wordCount'].sum():,}\")\n",
    "            print(f\"Average Words per Entry: {df['wordCount'].mean():.1f}\")\n",
    "            print(f\"Completed Submodules: {df['submoduleId'].nunique()}\")\n",
    "        else:\n",
    "            print(\"\\n[INFO] No entries found for Module 1 yet.\")\n",
    "            \n",
    "    except Exception as e:\n",
    "        print(f\"[ERROR] Error fetching Module 1 entries: {str(e)}\")\n"
   ]
  },
  {
   "cell_type": "code",
   "execution_count": null,
   "id": "9a722024",
   "metadata": {},
   "outputs": [
    {
     "name": "stdout",
     "output_type": "stream",
     "text": [
      "[ERROR] Error fetching Module 1 entries: Invalid direction 'asc'. Must be one of 'ASCENDING' or 'DESCENDING'.\n"
     ]
    },
    {
     "name": "stderr",
     "output_type": "stream",
     "text": [
      "/home/hemanburre/miniconda3/envs/interosight/lib/python3.11/site-packages/google/cloud/firestore_v1/base_collection.py:304: UserWarning: Detected filter using positional arguments. Prefer using the 'filter' keyword argument instead.\n",
      "  return query.where(field_path, op_string, value)\n"
     ]
    }
   ],
   "source": [
    "# Get Module 1 (Introduction) journal entries\n",
    "if user_id:\n",
    "    try:\n",
    "        # Query all journal entries for Module 1\n",
    "        module_entries = db.collection('users').document(user_id).collection('journal_entries')\\\n",
    "            .where('moduleId', '==', 'introduction')\\\n",
    "            .order_by('createdAt', 'ASCENDING')\\\n",
    "            .stream()\n",
    "        \n",
    "        # Convert to list of dictionaries\n",
    "        entries = []\n",
    "        for doc in module_entries:\n",
    "            entry_data = doc.to_dict()\n",
    "            # Convert timestamps to datetime for better display\n",
    "            entry_data['createdAt'] = entry_data['createdAt'].strftime('%Y-%m-%d %H:%M:%S')\n",
    "            entry_data['updatedAt'] = entry_data['updatedAt'].strftime('%Y-%m-%d %H:%M:%S')\n",
    "            entries.append(entry_data)\n",
    "        \n",
    "        # Create DataFrame for better visualization\n",
    "        df = pd.DataFrame(entries)\n",
    "        \n",
    "        if len(df) > 0:\n",
    "            print(f\"\\nFound {len(df)} entries in Module 1:\")\n",
    "            print(\"\\nEntry Summary:\")\n",
    "            print(\"-\" * 80)\n",
    "            for idx, row in df.iterrows():\n",
    "                print(f\"Entry {idx + 1}:\")\n",
    "                print(f\"Submodule: {row['submoduleId']}\")\n",
    "                print(f\"Created: {row['createdAt']}\")\n",
    "                print(f\"Word Count: {row['wordCount']}\")\n",
    "                print(f\"Content Preview: {row['content'][:100]}...\")\n",
    "                print(\"-\" * 80)\n",
    "            \n",
    "            # Show some basic statistics\n",
    "            print(\"\\nModule Statistics:\")\n",
    "            print(f\"Total Word Count: {df['wordCount'].sum():,}\")\n",
    "            print(f\"Average Words per Entry: {df['wordCount'].mean():.1f}\")\n",
    "            print(f\"Completed Submodules: {df['submoduleId'].nunique()}\")\n",
    "        else:\n",
    "            print(\"\\n[INFO] No entries found for Module 1 yet.\")\n",
    "            \n",
    "    except Exception as e:\n",
    "        print(f\"[ERROR] Error fetching Module 1 entries: {str(e)}\")\n"
   ]
  },
  {
   "cell_type": "code",
   "execution_count": null,
   "id": "a1705fa4",
   "metadata": {},
   "outputs": [],
   "source": []
  }
 ],
 "metadata": {
  "kernelspec": {
   "display_name": "interosight",
   "language": "python",
   "name": "python3"
  },
  "language_info": {
   "codemirror_mode": {
    "name": "ipython",
    "version": 3
   },
   "file_extension": ".py",
   "mimetype": "text/x-python",
   "name": "python",
   "nbconvert_exporter": "python",
   "pygments_lexer": "ipython3",
   "version": "3.11.11"
  }
 },
 "nbformat": 4,
 "nbformat_minor": 5
}
